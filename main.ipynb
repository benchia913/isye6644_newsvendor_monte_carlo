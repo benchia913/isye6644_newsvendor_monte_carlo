{
 "cells": [
  {
   "cell_type": "code",
   "execution_count": null,
   "metadata": {},
   "outputs": [],
   "source": [
    "import pandas as pd\n",
    "import numpy as np\n",
    "import ipywidgets as ipw\n",
    "from UI import *\n"
   ]
  },
  {
   "cell_type": "code",
   "execution_count": 2,
   "metadata": {},
   "outputs": [
    {
     "data": {
      "application/vnd.jupyter.widget-view+json": {
       "model_id": "f4315edaf3da44f98aabece2d8987af5",
       "version_major": 2,
       "version_minor": 0
      },
      "text/plain": [
       "VBox(children=(HTML(value=\"\\n<b><u>Newsvendor Monte Carlo Application</u></b><br>\\n<b>Instructions:</b><br>\\n1…"
      ]
     },
     "metadata": {},
     "output_type": "display_data"
    }
   ],
   "source": [
    "display(w_main_UI)"
   ]
  },
  {
   "cell_type": "markdown",
   "metadata": {},
   "source": [
    "introduction to newsvendor problem - https://www.columbia.edu/~gmg2/4000/pdf/lect_07.pdf   \n",
    "wiki page newsvendor problemn - https://en.wikipedia.org/wiki/Newsvendor_model  \n",
    "approaches to negative numbers - https://ideas.repec.org/p/pra/mprapa/31842.html  \n",
    "Monte Carlo implementation -  chrome-extension://efaidnbmnnnibpcajpcglclefindmkaj/https://dc.etsu.edu/cgi/viewcontent.cgi?article=4522&context=etd"
   ]
  },
  {
   "cell_type": "markdown",
   "metadata": {},
   "source": []
  }
 ],
 "metadata": {
  "kernelspec": {
   "display_name": ".venv",
   "language": "python",
   "name": "python3"
  },
  "language_info": {
   "codemirror_mode": {
    "name": "ipython",
    "version": 3
   },
   "file_extension": ".py",
   "mimetype": "text/x-python",
   "name": "python",
   "nbconvert_exporter": "python",
   "pygments_lexer": "ipython3",
   "version": "3.12.7"
  }
 },
 "nbformat": 4,
 "nbformat_minor": 2
}
