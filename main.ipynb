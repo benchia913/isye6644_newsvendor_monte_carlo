{
 "cells": [
  {
   "cell_type": "code",
   "execution_count": 1,
   "metadata": {},
   "outputs": [],
   "source": [
    "import pandas as pd\n",
    "import numpy as np\n",
    "import ipywidgets as ipw\n",
    "from UI import *\n"
   ]
  },
  {
   "cell_type": "code",
   "execution_count": 2,
   "metadata": {},
   "outputs": [
    {
     "data": {
      "application/vnd.jupyter.widget-view+json": {
       "model_id": "270176df80664a14ae73720ebd177ece",
       "version_major": 2,
       "version_minor": 0
      },
      "text/plain": [
       "VBox(children=(HBox(children=(VBox(children=(HTML(value='<b><u>Random Variable Generation</u></b>'), IntText(v…"
      ]
     },
     "metadata": {},
     "output_type": "display_data"
    }
   ],
   "source": [
    "display(w_main_UI)"
   ]
  },
  {
   "cell_type": "code",
   "execution_count": null,
   "metadata": {},
   "outputs": [],
   "source": [
    "news_vendor_data_object.sample_demand.shape"
   ]
  },
  {
   "cell_type": "code",
   "execution_count": null,
   "metadata": {},
   "outputs": [],
   "source": [
    "from scipy.stats import norm, uniform, lognorm\n",
    "\n",
    "lognorm.fit(news_vendor_data_object.sample_demand)"
   ]
  },
  {
   "cell_type": "code",
   "execution_count": null,
   "metadata": {},
   "outputs": [],
   "source": [
    "pd.DataFrame()\n",
    "\n",
    "#https://github.com/fabryandrea/newsvendor/blob/master/newsvendor.ipynb"
   ]
  },
  {
   "cell_type": "code",
   "execution_count": null,
   "metadata": {},
   "outputs": [],
   "source": [
    "def operation(x):\n",
    "    return np.fmax(x, 0)\n",
    "\n",
    "y = np.array([-1, 2, 3])\n",
    "\n",
    "operation(y)"
   ]
  },
  {
   "cell_type": "code",
   "execution_count": null,
   "metadata": {},
   "outputs": [],
   "source": [
    "w_main_UI.children[0].children[1].children"
   ]
  },
  {
   "cell_type": "code",
   "execution_count": null,
   "metadata": {},
   "outputs": [],
   "source": [
    "repetitions = 100_000\n",
    "\n",
    "# set random seed\n",
    "np.random.seed(1)\n",
    "demand_rv_normal = np.random.normal(loc=0, scale=1, \n",
    "                                    size=repetitions)\n",
    "\n",
    "demand_rv_normal"
   ]
  },
  {
   "cell_type": "code",
   "execution_count": null,
   "metadata": {},
   "outputs": [],
   "source": [
    "string.split('/')"
   ]
  },
  {
   "cell_type": "code",
   "execution_count": null,
   "metadata": {},
   "outputs": [],
   "source": [
    "x.apply(lambda x: x * -1)"
   ]
  },
  {
   "cell_type": "code",
   "execution_count": null,
   "metadata": {},
   "outputs": [],
   "source": [
    "min(list(x.values()))"
   ]
  },
  {
   "cell_type": "markdown",
   "metadata": {},
   "source": [
    "introduction to newsvendor problem - https://www.columbia.edu/~gmg2/4000/pdf/lect_07.pdf   \n",
    "wiki page newsvendor problemn - https://en.wikipedia.org/wiki/Newsvendor_model  \n",
    "approaches to negative numbers - https://ideas.repec.org/p/pra/mprapa/31842.html  \n",
    "Monte Carlo implementation -  chrome-extension://efaidnbmnnnibpcajpcglclefindmkaj/https://dc.etsu.edu/cgi/viewcontent.cgi?article=4522&context=etd"
   ]
  },
  {
   "cell_type": "markdown",
   "metadata": {},
   "source": [
    "Assumptions: Assume negative numbers are accepted\n",
    "Implementation: Do up uniform and normal with known parameters. Sample multiple times to get confidence interval of optimal order quantity. Plot demand distrbution, PnL and optimal order quantity of each monte carlo simulation comparing against the critical fractile formula"
   ]
  },
  {
   "cell_type": "markdown",
   "metadata": {},
   "source": []
  }
 ],
 "metadata": {
  "kernelspec": {
   "display_name": ".venv",
   "language": "python",
   "name": "python3"
  },
  "language_info": {
   "codemirror_mode": {
    "name": "ipython",
    "version": 3
   },
   "file_extension": ".py",
   "mimetype": "text/x-python",
   "name": "python",
   "nbconvert_exporter": "python",
   "pygments_lexer": "ipython3",
   "version": "3.12.7"
  }
 },
 "nbformat": 4,
 "nbformat_minor": 2
}
